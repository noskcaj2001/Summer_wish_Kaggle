{
 "cells": [
  {
   "cell_type": "code",
   "execution_count": 7,
   "metadata": {},
   "outputs": [],
   "source": [
    "import pandas as pd\n",
    "import matplotlib.pyplot as plt\n",
    "import seaborn as sns"
   ]
  },
  {
   "cell_type": "code",
   "execution_count": 8,
   "metadata": {},
   "outputs": [],
   "source": [
    "df_products = pd.read_csv(\"summer-products-with-rating-and-performance_2020-08.csv\")"
   ]
  },
  {
   "cell_type": "markdown",
   "metadata": {},
   "source": [
    "Organize as colunas que serão ultilizadas, e descarte as demais."
   ]
  },
  {
   "cell_type": "code",
   "execution_count": 9,
   "metadata": {},
   "outputs": [
    {
     "data": {
      "text/plain": [
       "Index(['title', 'title_orig', 'price', 'retail_price', 'currency_buyer',\n",
       "       'units_sold', 'uses_ad_boosts', 'rating', 'rating_count',\n",
       "       'rating_five_count', 'rating_four_count', 'rating_three_count',\n",
       "       'rating_two_count', 'rating_one_count', 'badges_count',\n",
       "       'badge_local_product', 'badge_product_quality', 'badge_fast_shipping',\n",
       "       'tags', 'product_color', 'product_variation_size_id',\n",
       "       'product_variation_inventory', 'shipping_option_name',\n",
       "       'shipping_option_price', 'shipping_is_express', 'countries_shipped_to',\n",
       "       'inventory_total', 'has_urgency_banner', 'urgency_text',\n",
       "       'origin_country', 'merchant_title', 'merchant_name',\n",
       "       'merchant_info_subtitle', 'merchant_rating_count', 'merchant_rating',\n",
       "       'merchant_id', 'merchant_has_profile_picture',\n",
       "       'merchant_profile_picture', 'product_url', 'product_picture',\n",
       "       'product_id', 'theme', 'crawl_month'],\n",
       "      dtype='object')"
      ]
     },
     "execution_count": 9,
     "metadata": {},
     "output_type": "execute_result"
    }
   ],
   "source": [
    "df_products.columns"
   ]
  },
  {
   "cell_type": "markdown",
   "metadata": {},
   "source": [
    "Traduzir os nomes das colunas para PT-BR"
   ]
  },
  {
   "cell_type": "code",
   "execution_count": 11,
   "metadata": {},
   "outputs": [],
   "source": [
    "translations = {\n",
    "    'title': 'título',\n",
    "    'price': 'preço',\n",
    "    'retail_price': 'preço de varejo',\n",
    "    'currency_buyer': 'moeda do comprador',\n",
    "    'units_sold': 'unidades vendidas',\n",
    "    'uses_ad_boosts': 'usa impulsionamento',\n",
    "    'rating': 'classificação',\n",
    "    'rating_count': 'quantidade de avaliações',\n",
    "    'badges_count': 'quantidade de distintivos',\n",
    "    'badge_product_quality': 'distintivo de qualidade do produto',\n",
    "    'badge_fast_shipping': 'distintivo de envio rápido',\n",
    "    'tags': 'tags',\n",
    "    'product_color': 'cor do produto',\n",
    "    'product_variation_size_id': 'tamanho da variação do produto',\n",
    "    'product_variation_inventory': 'inventário da variação do produto',\n",
    "    'shipping_is_express': 'envio expresso',\n",
    "    'countries_shipped_to': 'países enviados para',\n",
    "    'inventory_total': 'inventário total',\n",
    "    'has_urgency_banner': 'tem banner de urgência',\n",
    "    'origin_country': 'país de origem',\n",
    "    'merchant_rating_count': 'quantidade de avaliações do vendedor',\n",
    "    'merchant_rating': 'classificação do vendedor',\n",
    "}"
   ]
  },
  {
   "cell_type": "code",
   "execution_count": 12,
   "metadata": {},
   "outputs": [],
   "source": [
    "df_products.rename(columns=translations, inplace=True)"
   ]
  },
  {
   "cell_type": "code",
   "execution_count": 16,
   "metadata": {},
   "outputs": [],
   "source": [
    "cols = ['título',\n",
    " 'preço',\n",
    " 'preço de varejo',\n",
    " 'moeda do comprador',\n",
    " 'unidades vendidas',\n",
    " 'usa impulsionamento',\n",
    " 'classificação',\n",
    " 'quantidade de avaliações',\n",
    " 'quantidade de distintivos',\n",
    " 'distintivo de qualidade do produto',\n",
    " 'distintivo de envio rápido',\n",
    " 'tags',\n",
    " 'cor do produto',\n",
    " 'tamanho da variação do produto',\n",
    " 'inventário da variação do produto',\n",
    " 'envio expresso',\n",
    " 'países enviados para',\n",
    " 'inventário total',\n",
    " 'tem banner de urgência',\n",
    " 'país de origem',\n",
    " 'quantidade de avaliações do vendedor',\n",
    " 'classificação do vendedor']"
   ]
  },
  {
   "cell_type": "code",
   "execution_count": 17,
   "metadata": {},
   "outputs": [],
   "source": [
    "df_products = df_products[cols]"
   ]
  },
  {
   "cell_type": "markdown",
   "metadata": {},
   "source": [
    "Analise de dados ausentes"
   ]
  },
  {
   "cell_type": "code",
   "execution_count": 20,
   "metadata": {},
   "outputs": [
    {
     "data": {
      "text/plain": [
       "título                                     0\n",
       "preço                                      0\n",
       "preço de varejo                            0\n",
       "moeda do comprador                         0\n",
       "unidades vendidas                          0\n",
       "usa impulsionamento                        0\n",
       "classificação                              0\n",
       "quantidade de avaliações                   0\n",
       "quantidade de distintivos                  0\n",
       "distintivo de qualidade do produto         0\n",
       "distintivo de envio rápido                 0\n",
       "tags                                       0\n",
       "cor do produto                            41\n",
       "tamanho da variação do produto            14\n",
       "inventário da variação do produto          0\n",
       "envio expresso                             0\n",
       "países enviados para                       0\n",
       "inventário total                           0\n",
       "tem banner de urgência                  1100\n",
       "país de origem                            17\n",
       "quantidade de avaliações do vendedor       0\n",
       "classificação do vendedor                  0\n",
       "dtype: int64"
      ]
     },
     "execution_count": 20,
     "metadata": {},
     "output_type": "execute_result"
    }
   ],
   "source": [
    "df_products.isna().sum()"
   ]
  },
  {
   "cell_type": "code",
   "execution_count": null,
   "metadata": {},
   "outputs": [],
   "source": []
  }
 ],
 "metadata": {
  "kernelspec": {
   "display_name": "Python 3",
   "language": "python",
   "name": "python3"
  },
  "language_info": {
   "codemirror_mode": {
    "name": "ipython",
    "version": 3
   },
   "file_extension": ".py",
   "mimetype": "text/x-python",
   "name": "python",
   "nbconvert_exporter": "python",
   "pygments_lexer": "ipython3",
   "version": "3.11.2"
  }
 },
 "nbformat": 4,
 "nbformat_minor": 2
}
